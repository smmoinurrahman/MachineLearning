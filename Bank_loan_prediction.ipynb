{
 "cells": [
  {
   "cell_type": "code",
   "id": "initial_id",
   "metadata": {
    "collapsed": true,
    "ExecuteTime": {
     "end_time": "2024-10-21T17:34:31.612240Z",
     "start_time": "2024-10-21T17:34:31.598946Z"
    }
   },
   "source": [
    "import tensorflow as tf\n",
    "import pandas as pd\n"
   ],
   "outputs": [],
   "execution_count": 72
  },
  {
   "metadata": {
    "ExecuteTime": {
     "end_time": "2024-10-21T17:34:31.784105Z",
     "start_time": "2024-10-21T17:34:31.651993Z"
    }
   },
   "cell_type": "code",
   "source": [
    "train_raw_ds = pd.read_csv('Bank_data/train.csv')\n",
    "test_raw_ds = pd.read_csv('Bank_data/test.csv')"
   ],
   "id": "d3997528c9958bad",
   "outputs": [],
   "execution_count": 73
  },
  {
   "metadata": {
    "ExecuteTime": {
     "end_time": "2024-10-21T17:34:31.816673Z",
     "start_time": "2024-10-21T17:34:31.794154Z"
    }
   },
   "cell_type": "code",
   "source": "train_raw_ds.head()",
   "id": "1070e39d45051ee4",
   "outputs": [
    {
     "data": {
      "text/plain": [
       "   id  person_age  person_income person_home_ownership  person_emp_length  \\\n",
       "0   0          37          35000                  RENT                0.0   \n",
       "1   1          22          56000                   OWN                6.0   \n",
       "2   2          29          28800                   OWN                8.0   \n",
       "3   3          30          70000                  RENT               14.0   \n",
       "4   4          22          60000                  RENT                2.0   \n",
       "\n",
       "  loan_intent loan_grade  loan_amnt  loan_int_rate  loan_percent_income  \\\n",
       "0   EDUCATION          B       6000          11.49                 0.17   \n",
       "1     MEDICAL          C       4000          13.35                 0.07   \n",
       "2    PERSONAL          A       6000           8.90                 0.21   \n",
       "3     VENTURE          B      12000          11.11                 0.17   \n",
       "4     MEDICAL          A       6000           6.92                 0.10   \n",
       "\n",
       "  cb_person_default_on_file  cb_person_cred_hist_length  loan_status  \n",
       "0                         N                          14            0  \n",
       "1                         N                           2            0  \n",
       "2                         N                          10            0  \n",
       "3                         N                           5            0  \n",
       "4                         N                           3            0  "
      ],
      "text/html": [
       "<div>\n",
       "<style scoped>\n",
       "    .dataframe tbody tr th:only-of-type {\n",
       "        vertical-align: middle;\n",
       "    }\n",
       "\n",
       "    .dataframe tbody tr th {\n",
       "        vertical-align: top;\n",
       "    }\n",
       "\n",
       "    .dataframe thead th {\n",
       "        text-align: right;\n",
       "    }\n",
       "</style>\n",
       "<table border=\"1\" class=\"dataframe\">\n",
       "  <thead>\n",
       "    <tr style=\"text-align: right;\">\n",
       "      <th></th>\n",
       "      <th>id</th>\n",
       "      <th>person_age</th>\n",
       "      <th>person_income</th>\n",
       "      <th>person_home_ownership</th>\n",
       "      <th>person_emp_length</th>\n",
       "      <th>loan_intent</th>\n",
       "      <th>loan_grade</th>\n",
       "      <th>loan_amnt</th>\n",
       "      <th>loan_int_rate</th>\n",
       "      <th>loan_percent_income</th>\n",
       "      <th>cb_person_default_on_file</th>\n",
       "      <th>cb_person_cred_hist_length</th>\n",
       "      <th>loan_status</th>\n",
       "    </tr>\n",
       "  </thead>\n",
       "  <tbody>\n",
       "    <tr>\n",
       "      <th>0</th>\n",
       "      <td>0</td>\n",
       "      <td>37</td>\n",
       "      <td>35000</td>\n",
       "      <td>RENT</td>\n",
       "      <td>0.0</td>\n",
       "      <td>EDUCATION</td>\n",
       "      <td>B</td>\n",
       "      <td>6000</td>\n",
       "      <td>11.49</td>\n",
       "      <td>0.17</td>\n",
       "      <td>N</td>\n",
       "      <td>14</td>\n",
       "      <td>0</td>\n",
       "    </tr>\n",
       "    <tr>\n",
       "      <th>1</th>\n",
       "      <td>1</td>\n",
       "      <td>22</td>\n",
       "      <td>56000</td>\n",
       "      <td>OWN</td>\n",
       "      <td>6.0</td>\n",
       "      <td>MEDICAL</td>\n",
       "      <td>C</td>\n",
       "      <td>4000</td>\n",
       "      <td>13.35</td>\n",
       "      <td>0.07</td>\n",
       "      <td>N</td>\n",
       "      <td>2</td>\n",
       "      <td>0</td>\n",
       "    </tr>\n",
       "    <tr>\n",
       "      <th>2</th>\n",
       "      <td>2</td>\n",
       "      <td>29</td>\n",
       "      <td>28800</td>\n",
       "      <td>OWN</td>\n",
       "      <td>8.0</td>\n",
       "      <td>PERSONAL</td>\n",
       "      <td>A</td>\n",
       "      <td>6000</td>\n",
       "      <td>8.90</td>\n",
       "      <td>0.21</td>\n",
       "      <td>N</td>\n",
       "      <td>10</td>\n",
       "      <td>0</td>\n",
       "    </tr>\n",
       "    <tr>\n",
       "      <th>3</th>\n",
       "      <td>3</td>\n",
       "      <td>30</td>\n",
       "      <td>70000</td>\n",
       "      <td>RENT</td>\n",
       "      <td>14.0</td>\n",
       "      <td>VENTURE</td>\n",
       "      <td>B</td>\n",
       "      <td>12000</td>\n",
       "      <td>11.11</td>\n",
       "      <td>0.17</td>\n",
       "      <td>N</td>\n",
       "      <td>5</td>\n",
       "      <td>0</td>\n",
       "    </tr>\n",
       "    <tr>\n",
       "      <th>4</th>\n",
       "      <td>4</td>\n",
       "      <td>22</td>\n",
       "      <td>60000</td>\n",
       "      <td>RENT</td>\n",
       "      <td>2.0</td>\n",
       "      <td>MEDICAL</td>\n",
       "      <td>A</td>\n",
       "      <td>6000</td>\n",
       "      <td>6.92</td>\n",
       "      <td>0.10</td>\n",
       "      <td>N</td>\n",
       "      <td>3</td>\n",
       "      <td>0</td>\n",
       "    </tr>\n",
       "  </tbody>\n",
       "</table>\n",
       "</div>"
      ]
     },
     "execution_count": 74,
     "metadata": {},
     "output_type": "execute_result"
    }
   ],
   "execution_count": 74
  },
  {
   "metadata": {
    "ExecuteTime": {
     "end_time": "2024-10-21T17:34:31.849927Z",
     "start_time": "2024-10-21T17:34:31.840766Z"
    }
   },
   "cell_type": "code",
   "source": "train_raw_ds.columns",
   "id": "1f666b1177e85f90",
   "outputs": [
    {
     "data": {
      "text/plain": [
       "Index(['id', 'person_age', 'person_income', 'person_home_ownership',\n",
       "       'person_emp_length', 'loan_intent', 'loan_grade', 'loan_amnt',\n",
       "       'loan_int_rate', 'loan_percent_income', 'cb_person_default_on_file',\n",
       "       'cb_person_cred_hist_length', 'loan_status'],\n",
       "      dtype='object')"
      ]
     },
     "execution_count": 75,
     "metadata": {},
     "output_type": "execute_result"
    }
   ],
   "execution_count": 75
  },
  {
   "metadata": {
    "ExecuteTime": {
     "end_time": "2024-10-21T17:34:31.971185Z",
     "start_time": "2024-10-21T17:34:31.906625Z"
    }
   },
   "cell_type": "code",
   "source": "train_raw_ds.describe()",
   "id": "cb1f0234104543e3",
   "outputs": [
    {
     "data": {
      "text/plain": [
       "                 id    person_age  person_income  person_emp_length  \\\n",
       "count  58645.000000  58645.000000   5.864500e+04       58645.000000   \n",
       "mean   29322.000000     27.550857   6.404617e+04           4.701015   \n",
       "std    16929.497605      6.033216   3.793111e+04           3.959784   \n",
       "min        0.000000     20.000000   4.200000e+03           0.000000   \n",
       "25%    14661.000000     23.000000   4.200000e+04           2.000000   \n",
       "50%    29322.000000     26.000000   5.800000e+04           4.000000   \n",
       "75%    43983.000000     30.000000   7.560000e+04           7.000000   \n",
       "max    58644.000000    123.000000   1.900000e+06         123.000000   \n",
       "\n",
       "          loan_amnt  loan_int_rate  loan_percent_income  \\\n",
       "count  58645.000000   58645.000000         58645.000000   \n",
       "mean    9217.556518      10.677874             0.159238   \n",
       "std     5563.807384       3.034697             0.091692   \n",
       "min      500.000000       5.420000             0.000000   \n",
       "25%     5000.000000       7.880000             0.090000   \n",
       "50%     8000.000000      10.750000             0.140000   \n",
       "75%    12000.000000      12.990000             0.210000   \n",
       "max    35000.000000      23.220000             0.830000   \n",
       "\n",
       "       cb_person_cred_hist_length   loan_status  \n",
       "count                58645.000000  58645.000000  \n",
       "mean                     5.813556      0.142382  \n",
       "std                      4.029196      0.349445  \n",
       "min                      2.000000      0.000000  \n",
       "25%                      3.000000      0.000000  \n",
       "50%                      4.000000      0.000000  \n",
       "75%                      8.000000      0.000000  \n",
       "max                     30.000000      1.000000  "
      ],
      "text/html": [
       "<div>\n",
       "<style scoped>\n",
       "    .dataframe tbody tr th:only-of-type {\n",
       "        vertical-align: middle;\n",
       "    }\n",
       "\n",
       "    .dataframe tbody tr th {\n",
       "        vertical-align: top;\n",
       "    }\n",
       "\n",
       "    .dataframe thead th {\n",
       "        text-align: right;\n",
       "    }\n",
       "</style>\n",
       "<table border=\"1\" class=\"dataframe\">\n",
       "  <thead>\n",
       "    <tr style=\"text-align: right;\">\n",
       "      <th></th>\n",
       "      <th>id</th>\n",
       "      <th>person_age</th>\n",
       "      <th>person_income</th>\n",
       "      <th>person_emp_length</th>\n",
       "      <th>loan_amnt</th>\n",
       "      <th>loan_int_rate</th>\n",
       "      <th>loan_percent_income</th>\n",
       "      <th>cb_person_cred_hist_length</th>\n",
       "      <th>loan_status</th>\n",
       "    </tr>\n",
       "  </thead>\n",
       "  <tbody>\n",
       "    <tr>\n",
       "      <th>count</th>\n",
       "      <td>58645.000000</td>\n",
       "      <td>58645.000000</td>\n",
       "      <td>5.864500e+04</td>\n",
       "      <td>58645.000000</td>\n",
       "      <td>58645.000000</td>\n",
       "      <td>58645.000000</td>\n",
       "      <td>58645.000000</td>\n",
       "      <td>58645.000000</td>\n",
       "      <td>58645.000000</td>\n",
       "    </tr>\n",
       "    <tr>\n",
       "      <th>mean</th>\n",
       "      <td>29322.000000</td>\n",
       "      <td>27.550857</td>\n",
       "      <td>6.404617e+04</td>\n",
       "      <td>4.701015</td>\n",
       "      <td>9217.556518</td>\n",
       "      <td>10.677874</td>\n",
       "      <td>0.159238</td>\n",
       "      <td>5.813556</td>\n",
       "      <td>0.142382</td>\n",
       "    </tr>\n",
       "    <tr>\n",
       "      <th>std</th>\n",
       "      <td>16929.497605</td>\n",
       "      <td>6.033216</td>\n",
       "      <td>3.793111e+04</td>\n",
       "      <td>3.959784</td>\n",
       "      <td>5563.807384</td>\n",
       "      <td>3.034697</td>\n",
       "      <td>0.091692</td>\n",
       "      <td>4.029196</td>\n",
       "      <td>0.349445</td>\n",
       "    </tr>\n",
       "    <tr>\n",
       "      <th>min</th>\n",
       "      <td>0.000000</td>\n",
       "      <td>20.000000</td>\n",
       "      <td>4.200000e+03</td>\n",
       "      <td>0.000000</td>\n",
       "      <td>500.000000</td>\n",
       "      <td>5.420000</td>\n",
       "      <td>0.000000</td>\n",
       "      <td>2.000000</td>\n",
       "      <td>0.000000</td>\n",
       "    </tr>\n",
       "    <tr>\n",
       "      <th>25%</th>\n",
       "      <td>14661.000000</td>\n",
       "      <td>23.000000</td>\n",
       "      <td>4.200000e+04</td>\n",
       "      <td>2.000000</td>\n",
       "      <td>5000.000000</td>\n",
       "      <td>7.880000</td>\n",
       "      <td>0.090000</td>\n",
       "      <td>3.000000</td>\n",
       "      <td>0.000000</td>\n",
       "    </tr>\n",
       "    <tr>\n",
       "      <th>50%</th>\n",
       "      <td>29322.000000</td>\n",
       "      <td>26.000000</td>\n",
       "      <td>5.800000e+04</td>\n",
       "      <td>4.000000</td>\n",
       "      <td>8000.000000</td>\n",
       "      <td>10.750000</td>\n",
       "      <td>0.140000</td>\n",
       "      <td>4.000000</td>\n",
       "      <td>0.000000</td>\n",
       "    </tr>\n",
       "    <tr>\n",
       "      <th>75%</th>\n",
       "      <td>43983.000000</td>\n",
       "      <td>30.000000</td>\n",
       "      <td>7.560000e+04</td>\n",
       "      <td>7.000000</td>\n",
       "      <td>12000.000000</td>\n",
       "      <td>12.990000</td>\n",
       "      <td>0.210000</td>\n",
       "      <td>8.000000</td>\n",
       "      <td>0.000000</td>\n",
       "    </tr>\n",
       "    <tr>\n",
       "      <th>max</th>\n",
       "      <td>58644.000000</td>\n",
       "      <td>123.000000</td>\n",
       "      <td>1.900000e+06</td>\n",
       "      <td>123.000000</td>\n",
       "      <td>35000.000000</td>\n",
       "      <td>23.220000</td>\n",
       "      <td>0.830000</td>\n",
       "      <td>30.000000</td>\n",
       "      <td>1.000000</td>\n",
       "    </tr>\n",
       "  </tbody>\n",
       "</table>\n",
       "</div>"
      ]
     },
     "execution_count": 76,
     "metadata": {},
     "output_type": "execute_result"
    }
   ],
   "execution_count": 76
  },
  {
   "metadata": {
    "ExecuteTime": {
     "end_time": "2024-10-21T17:34:32.036513Z",
     "start_time": "2024-10-21T17:34:31.999815Z"
    }
   },
   "cell_type": "code",
   "source": "train_raw_ds.info()",
   "id": "bb1205fe08c36f28",
   "outputs": [
    {
     "name": "stdout",
     "output_type": "stream",
     "text": [
      "<class 'pandas.core.frame.DataFrame'>\n",
      "RangeIndex: 58645 entries, 0 to 58644\n",
      "Data columns (total 13 columns):\n",
      " #   Column                      Non-Null Count  Dtype  \n",
      "---  ------                      --------------  -----  \n",
      " 0   id                          58645 non-null  int64  \n",
      " 1   person_age                  58645 non-null  int64  \n",
      " 2   person_income               58645 non-null  int64  \n",
      " 3   person_home_ownership       58645 non-null  object \n",
      " 4   person_emp_length           58645 non-null  float64\n",
      " 5   loan_intent                 58645 non-null  object \n",
      " 6   loan_grade                  58645 non-null  object \n",
      " 7   loan_amnt                   58645 non-null  int64  \n",
      " 8   loan_int_rate               58645 non-null  float64\n",
      " 9   loan_percent_income         58645 non-null  float64\n",
      " 10  cb_person_default_on_file   58645 non-null  object \n",
      " 11  cb_person_cred_hist_length  58645 non-null  int64  \n",
      " 12  loan_status                 58645 non-null  int64  \n",
      "dtypes: float64(3), int64(6), object(4)\n",
      "memory usage: 5.8+ MB\n"
     ]
    }
   ],
   "execution_count": 77
  },
  {
   "metadata": {
    "ExecuteTime": {
     "end_time": "2024-10-21T17:34:32.207884Z",
     "start_time": "2024-10-21T17:34:32.178441Z"
    }
   },
   "cell_type": "code",
   "source": "train_raw_ds.isnull().sum()",
   "id": "517a4749c83eafc7",
   "outputs": [
    {
     "data": {
      "text/plain": [
       "id                            0\n",
       "person_age                    0\n",
       "person_income                 0\n",
       "person_home_ownership         0\n",
       "person_emp_length             0\n",
       "loan_intent                   0\n",
       "loan_grade                    0\n",
       "loan_amnt                     0\n",
       "loan_int_rate                 0\n",
       "loan_percent_income           0\n",
       "cb_person_default_on_file     0\n",
       "cb_person_cred_hist_length    0\n",
       "loan_status                   0\n",
       "dtype: int64"
      ]
     },
     "execution_count": 78,
     "metadata": {},
     "output_type": "execute_result"
    }
   ],
   "execution_count": 78
  },
  {
   "metadata": {
    "ExecuteTime": {
     "end_time": "2024-10-21T17:34:32.296307Z",
     "start_time": "2024-10-21T17:34:32.253323Z"
    }
   },
   "cell_type": "code",
   "source": "train_raw_ds.nunique()",
   "id": "b97a47cb917db5a8",
   "outputs": [
    {
     "data": {
      "text/plain": [
       "id                            58645\n",
       "person_age                       53\n",
       "person_income                  2641\n",
       "person_home_ownership             4\n",
       "person_emp_length                36\n",
       "loan_intent                       6\n",
       "loan_grade                        7\n",
       "loan_amnt                       545\n",
       "loan_int_rate                   362\n",
       "loan_percent_income              61\n",
       "cb_person_default_on_file         2\n",
       "cb_person_cred_hist_length       29\n",
       "loan_status                       2\n",
       "dtype: int64"
      ]
     },
     "execution_count": 79,
     "metadata": {},
     "output_type": "execute_result"
    }
   ],
   "execution_count": 79
  },
  {
   "metadata": {
    "ExecuteTime": {
     "end_time": "2024-10-21T17:34:32.318376Z",
     "start_time": "2024-10-21T17:34:32.300323Z"
    }
   },
   "cell_type": "code",
   "source": "train_raw_ds['person_home_ownership'].value_counts()",
   "id": "c4f143f573635cda",
   "outputs": [
    {
     "data": {
      "text/plain": [
       "person_home_ownership\n",
       "RENT        30594\n",
       "MORTGAGE    24824\n",
       "OWN          3138\n",
       "OTHER          89\n",
       "Name: count, dtype: int64"
      ]
     },
     "execution_count": 80,
     "metadata": {},
     "output_type": "execute_result"
    }
   ],
   "execution_count": 80
  },
  {
   "metadata": {
    "ExecuteTime": {
     "end_time": "2024-10-21T17:34:32.474627Z",
     "start_time": "2024-10-21T17:34:32.458236Z"
    }
   },
   "cell_type": "code",
   "source": "train_raw_ds['loan_intent'].value_counts()",
   "id": "4abe1d5241ff0f98",
   "outputs": [
    {
     "data": {
      "text/plain": [
       "loan_intent\n",
       "EDUCATION            12271\n",
       "MEDICAL              10934\n",
       "PERSONAL             10016\n",
       "VENTURE              10011\n",
       "DEBTCONSOLIDATION     9133\n",
       "HOMEIMPROVEMENT       6280\n",
       "Name: count, dtype: int64"
      ]
     },
     "execution_count": 81,
     "metadata": {},
     "output_type": "execute_result"
    }
   ],
   "execution_count": 81
  },
  {
   "metadata": {
    "ExecuteTime": {
     "end_time": "2024-10-21T17:34:32.557456Z",
     "start_time": "2024-10-21T17:34:32.551685Z"
    }
   },
   "cell_type": "code",
   "source": "from sklearn.preprocessing import LabelEncoder",
   "id": "75f258dc25b8c910",
   "outputs": [],
   "execution_count": 82
  },
  {
   "metadata": {
    "ExecuteTime": {
     "end_time": "2024-10-21T17:34:32.640529Z",
     "start_time": "2024-10-21T17:34:32.583191Z"
    }
   },
   "cell_type": "code",
   "source": [
    "encoder = LabelEncoder()\n",
    "train_raw_ds['person_home_ownership'] = encoder.fit_transform(train_raw_ds['person_home_ownership'])\n",
    "train_raw_ds['loan_intent'] = encoder.fit_transform(train_raw_ds['loan_intent'])\n",
    "train_raw_ds['loan_grade'] = encoder.fit_transform(train_raw_ds['loan_grade'])\n",
    "train_raw_ds['cb_person_default_on_file'] = encoder.fit_transform(train_raw_ds['cb_person_default_on_file'])\n",
    "\n"
   ],
   "id": "d8445f7e09d80bcb",
   "outputs": [],
   "execution_count": 83
  },
  {
   "metadata": {
    "ExecuteTime": {
     "end_time": "2024-10-21T17:34:32.655648Z",
     "start_time": "2024-10-21T17:34:32.645111Z"
    }
   },
   "cell_type": "code",
   "source": "train_raw_ds.dtypes",
   "id": "8b82cee5522c47ff",
   "outputs": [
    {
     "data": {
      "text/plain": [
       "id                              int64\n",
       "person_age                      int64\n",
       "person_income                   int64\n",
       "person_home_ownership           int32\n",
       "person_emp_length             float64\n",
       "loan_intent                     int32\n",
       "loan_grade                      int32\n",
       "loan_amnt                       int64\n",
       "loan_int_rate                 float64\n",
       "loan_percent_income           float64\n",
       "cb_person_default_on_file       int32\n",
       "cb_person_cred_hist_length      int64\n",
       "loan_status                     int64\n",
       "dtype: object"
      ]
     },
     "execution_count": 84,
     "metadata": {},
     "output_type": "execute_result"
    }
   ],
   "execution_count": 84
  },
  {
   "metadata": {
    "ExecuteTime": {
     "end_time": "2024-10-21T17:34:32.683586Z",
     "start_time": "2024-10-21T17:34:32.665203Z"
    }
   },
   "cell_type": "code",
   "source": [
    "x_train = train_raw_ds.drop(['loan_status'], axis=1)\n",
    "y_train = train_raw_ds['loan_status']\n"
   ],
   "id": "377053e49f73d1f9",
   "outputs": [],
   "execution_count": 85
  },
  {
   "metadata": {
    "ExecuteTime": {
     "end_time": "2024-10-21T17:34:32.703850Z",
     "start_time": "2024-10-21T17:34:32.693131Z"
    }
   },
   "cell_type": "code",
   "source": "x_train.columns",
   "id": "9b5a60a72dbf1442",
   "outputs": [
    {
     "data": {
      "text/plain": [
       "Index(['id', 'person_age', 'person_income', 'person_home_ownership',\n",
       "       'person_emp_length', 'loan_intent', 'loan_grade', 'loan_amnt',\n",
       "       'loan_int_rate', 'loan_percent_income', 'cb_person_default_on_file',\n",
       "       'cb_person_cred_hist_length'],\n",
       "      dtype='object')"
      ]
     },
     "execution_count": 86,
     "metadata": {},
     "output_type": "execute_result"
    }
   ],
   "execution_count": 86
  },
  {
   "metadata": {
    "ExecuteTime": {
     "end_time": "2024-10-21T17:34:32.741693Z",
     "start_time": "2024-10-21T17:34:32.731015Z"
    }
   },
   "cell_type": "code",
   "source": "y_train.head()",
   "id": "bff4ce8433570546",
   "outputs": [
    {
     "data": {
      "text/plain": [
       "0    0\n",
       "1    0\n",
       "2    0\n",
       "3    0\n",
       "4    0\n",
       "Name: loan_status, dtype: int64"
      ]
     },
     "execution_count": 87,
     "metadata": {},
     "output_type": "execute_result"
    }
   ],
   "execution_count": 87
  },
  {
   "metadata": {
    "ExecuteTime": {
     "end_time": "2024-10-21T17:34:32.798747Z",
     "start_time": "2024-10-21T17:34:32.752243Z"
    }
   },
   "cell_type": "code",
   "source": [
    "model = tf.keras.models.Sequential([\n",
    "    tf.keras.Input(shape=(12,)),\n",
    "    tf.keras.layers.Normalization(axis=-1),\n",
    "    tf.keras.layers.Dense(64, activation='relu'),\n",
    "    tf.keras.layers.Dense(64, activation='relu'),\n",
    "    tf.keras.layers.Dense(1)\n",
    "])\n",
    "model.compile(optimizer='adam', loss = 'mean_absolute_error')"
   ],
   "id": "f64a408c71daacfa",
   "outputs": [],
   "execution_count": 88
  },
  {
   "metadata": {
    "ExecuteTime": {
     "end_time": "2024-10-21T17:34:32.834214Z",
     "start_time": "2024-10-21T17:34:32.799091Z"
    }
   },
   "cell_type": "code",
   "source": "model.summary()",
   "id": "d75f2d46a4ccb3de",
   "outputs": [
    {
     "data": {
      "text/plain": [
       "\u001B[1mModel: \"sequential_8\"\u001B[0m\n"
      ],
      "text/html": [
       "<pre style=\"white-space:pre;overflow-x:auto;line-height:normal;font-family:Menlo,'DejaVu Sans Mono',consolas,'Courier New',monospace\"><span style=\"font-weight: bold\">Model: \"sequential_8\"</span>\n",
       "</pre>\n"
      ]
     },
     "metadata": {},
     "output_type": "display_data"
    },
    {
     "data": {
      "text/plain": [
       "┏━━━━━━━━━━━━━━━━━━━━━━━━━━━━━━━━━┳━━━━━━━━━━━━━━━━━━━━━━━━┳━━━━━━━━━━━━━━━┓\n",
       "┃\u001B[1m \u001B[0m\u001B[1mLayer (type)                   \u001B[0m\u001B[1m \u001B[0m┃\u001B[1m \u001B[0m\u001B[1mOutput Shape          \u001B[0m\u001B[1m \u001B[0m┃\u001B[1m \u001B[0m\u001B[1m      Param #\u001B[0m\u001B[1m \u001B[0m┃\n",
       "┡━━━━━━━━━━━━━━━━━━━━━━━━━━━━━━━━━╇━━━━━━━━━━━━━━━━━━━━━━━━╇━━━━━━━━━━━━━━━┩\n",
       "│ normalization_8 (\u001B[38;5;33mNormalization\u001B[0m) │ (\u001B[38;5;45mNone\u001B[0m, \u001B[38;5;34m12\u001B[0m)             │            \u001B[38;5;34m25\u001B[0m │\n",
       "├─────────────────────────────────┼────────────────────────┼───────────────┤\n",
       "│ dense_24 (\u001B[38;5;33mDense\u001B[0m)                │ (\u001B[38;5;45mNone\u001B[0m, \u001B[38;5;34m64\u001B[0m)             │           \u001B[38;5;34m832\u001B[0m │\n",
       "├─────────────────────────────────┼────────────────────────┼───────────────┤\n",
       "│ dense_25 (\u001B[38;5;33mDense\u001B[0m)                │ (\u001B[38;5;45mNone\u001B[0m, \u001B[38;5;34m64\u001B[0m)             │         \u001B[38;5;34m4,160\u001B[0m │\n",
       "├─────────────────────────────────┼────────────────────────┼───────────────┤\n",
       "│ dense_26 (\u001B[38;5;33mDense\u001B[0m)                │ (\u001B[38;5;45mNone\u001B[0m, \u001B[38;5;34m1\u001B[0m)              │            \u001B[38;5;34m65\u001B[0m │\n",
       "└─────────────────────────────────┴────────────────────────┴───────────────┘\n"
      ],
      "text/html": [
       "<pre style=\"white-space:pre;overflow-x:auto;line-height:normal;font-family:Menlo,'DejaVu Sans Mono',consolas,'Courier New',monospace\">┏━━━━━━━━━━━━━━━━━━━━━━━━━━━━━━━━━┳━━━━━━━━━━━━━━━━━━━━━━━━┳━━━━━━━━━━━━━━━┓\n",
       "┃<span style=\"font-weight: bold\"> Layer (type)                    </span>┃<span style=\"font-weight: bold\"> Output Shape           </span>┃<span style=\"font-weight: bold\">       Param # </span>┃\n",
       "┡━━━━━━━━━━━━━━━━━━━━━━━━━━━━━━━━━╇━━━━━━━━━━━━━━━━━━━━━━━━╇━━━━━━━━━━━━━━━┩\n",
       "│ normalization_8 (<span style=\"color: #0087ff; text-decoration-color: #0087ff\">Normalization</span>) │ (<span style=\"color: #00d7ff; text-decoration-color: #00d7ff\">None</span>, <span style=\"color: #00af00; text-decoration-color: #00af00\">12</span>)             │            <span style=\"color: #00af00; text-decoration-color: #00af00\">25</span> │\n",
       "├─────────────────────────────────┼────────────────────────┼───────────────┤\n",
       "│ dense_24 (<span style=\"color: #0087ff; text-decoration-color: #0087ff\">Dense</span>)                │ (<span style=\"color: #00d7ff; text-decoration-color: #00d7ff\">None</span>, <span style=\"color: #00af00; text-decoration-color: #00af00\">64</span>)             │           <span style=\"color: #00af00; text-decoration-color: #00af00\">832</span> │\n",
       "├─────────────────────────────────┼────────────────────────┼───────────────┤\n",
       "│ dense_25 (<span style=\"color: #0087ff; text-decoration-color: #0087ff\">Dense</span>)                │ (<span style=\"color: #00d7ff; text-decoration-color: #00d7ff\">None</span>, <span style=\"color: #00af00; text-decoration-color: #00af00\">64</span>)             │         <span style=\"color: #00af00; text-decoration-color: #00af00\">4,160</span> │\n",
       "├─────────────────────────────────┼────────────────────────┼───────────────┤\n",
       "│ dense_26 (<span style=\"color: #0087ff; text-decoration-color: #0087ff\">Dense</span>)                │ (<span style=\"color: #00d7ff; text-decoration-color: #00d7ff\">None</span>, <span style=\"color: #00af00; text-decoration-color: #00af00\">1</span>)              │            <span style=\"color: #00af00; text-decoration-color: #00af00\">65</span> │\n",
       "└─────────────────────────────────┴────────────────────────┴───────────────┘\n",
       "</pre>\n"
      ]
     },
     "metadata": {},
     "output_type": "display_data"
    },
    {
     "data": {
      "text/plain": [
       "\u001B[1m Total params: \u001B[0m\u001B[38;5;34m5,082\u001B[0m (19.86 KB)\n"
      ],
      "text/html": [
       "<pre style=\"white-space:pre;overflow-x:auto;line-height:normal;font-family:Menlo,'DejaVu Sans Mono',consolas,'Courier New',monospace\"><span style=\"font-weight: bold\"> Total params: </span><span style=\"color: #00af00; text-decoration-color: #00af00\">5,082</span> (19.86 KB)\n",
       "</pre>\n"
      ]
     },
     "metadata": {},
     "output_type": "display_data"
    },
    {
     "data": {
      "text/plain": [
       "\u001B[1m Trainable params: \u001B[0m\u001B[38;5;34m5,057\u001B[0m (19.75 KB)\n"
      ],
      "text/html": [
       "<pre style=\"white-space:pre;overflow-x:auto;line-height:normal;font-family:Menlo,'DejaVu Sans Mono',consolas,'Courier New',monospace\"><span style=\"font-weight: bold\"> Trainable params: </span><span style=\"color: #00af00; text-decoration-color: #00af00\">5,057</span> (19.75 KB)\n",
       "</pre>\n"
      ]
     },
     "metadata": {},
     "output_type": "display_data"
    },
    {
     "data": {
      "text/plain": [
       "\u001B[1m Non-trainable params: \u001B[0m\u001B[38;5;34m25\u001B[0m (104.00 B)\n"
      ],
      "text/html": [
       "<pre style=\"white-space:pre;overflow-x:auto;line-height:normal;font-family:Menlo,'DejaVu Sans Mono',consolas,'Courier New',monospace\"><span style=\"font-weight: bold\"> Non-trainable params: </span><span style=\"color: #00af00; text-decoration-color: #00af00\">25</span> (104.00 B)\n",
       "</pre>\n"
      ]
     },
     "metadata": {},
     "output_type": "display_data"
    }
   ],
   "execution_count": 89
  },
  {
   "metadata": {
    "ExecuteTime": {
     "end_time": "2024-10-21T17:34:57.551043Z",
     "start_time": "2024-10-21T17:34:32.847382Z"
    }
   },
   "cell_type": "code",
   "source": "history = model.fit(x_train, y_train, epochs=10, validation_split=0.2, verbose=0)",
   "id": "199b5a9e485b6446",
   "outputs": [],
   "execution_count": 90
  },
  {
   "metadata": {
    "ExecuteTime": {
     "end_time": "2024-10-21T17:34:57.556861Z",
     "start_time": "2024-10-21T17:34:57.551043Z"
    }
   },
   "cell_type": "code",
   "source": "",
   "id": "db562b392bdaa1ac",
   "outputs": [],
   "execution_count": 90
  },
  {
   "metadata": {
    "ExecuteTime": {
     "end_time": "2024-10-21T17:35:26.487552Z",
     "start_time": "2024-10-21T17:35:26.479279Z"
    }
   },
   "cell_type": "code",
   "source": [
    "import matplotlib.pyplot as plt\n",
    "def plot_loss(history):\n",
    "  plt.plot(history.history['loss'], label='loss')\n",
    "  plt.plot(history.history['val_loss'], label='val_loss')\n",
    "  \n",
    "  plt.xlabel('Epoch')\n",
    "  plt.ylabel('Error')\n",
    "  plt.legend()\n",
    "  plt.grid(True)"
   ],
   "id": "4ed25a6f97ce252f",
   "outputs": [],
   "execution_count": 93
  },
  {
   "metadata": {
    "ExecuteTime": {
     "end_time": "2024-10-21T17:35:27.262227Z",
     "start_time": "2024-10-21T17:35:27.075953Z"
    }
   },
   "cell_type": "code",
   "source": "plot_loss(history)",
   "id": "46979746970c4e53",
   "outputs": [
    {
     "data": {
      "text/plain": [
       "<Figure size 640x480 with 1 Axes>"
      ],
      "image/png": "[encoded data removed]"
     },
     "metadata": {},
     "output_type": "display_data"
    }
   ],
   "execution_count": 94
  },
  {
   "metadata": {
    "ExecuteTime": {
     "end_time": "2024-10-21T17:34:57.738435Z",
     "start_time": "2024-10-21T17:34:57.730506Z"
    }
   },
   "cell_type": "code",
   "source": "",
   "id": "fc588496e62d49ec",
   "outputs": [],
   "execution_count": 92
  },
  {
   "metadata": {
    "ExecuteTime": {
     "end_time": "2024-10-21T17:34:57.744565Z",
     "start_time": "2024-10-21T17:34:57.738435Z"
    }
   },
   "cell_type": "code",
   "source": "",
   "id": "48ed3fd9f2cb4eef",
   "outputs": [],
   "execution_count": 92
  }
 ],
 "metadata": {
  "kernelspec": {
   "display_name": "Python 3",
   "language": "python",
   "name": "python3"
  },
  "language_info": {
   "codemirror_mode": {
    "name": "ipython",
    "version": 2
   },
   "file_extension": ".py",
   "mimetype": "text/x-python",
   "name": "python",
   "nbconvert_exporter": "python",
   "pygments_lexer": "ipython2",
   "version": "2.7.6"
  }
 },
 "nbformat": 4,
 "nbformat_minor": 5
}
